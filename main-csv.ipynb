{
 "cells": [
  {
   "cell_type": "code",
   "execution_count": 2,
   "metadata": {},
   "outputs": [
    {
     "name": "stdout",
     "output_type": "stream",
     "text": [
      "Nombre total de jeux : 208508\n"
     ]
    }
   ],
   "source": [
    "import json\n",
    "import requests\n",
    "import sqlite3\n",
    "import time\n",
    "import csv\n",
    "\n",
    "# Faire la requête GET\n",
    "URL = \"http://api.steampowered.com/ISteamApps/GetAppList/v0002/?format=json\"\n",
    "response = requests.get(URL)    \n",
    "\n",
    "# Vérifier si la requête a réussi\n",
    "if response.status_code == 200:\n",
    "    # Parser le JSON\n",
    "    data = json.loads(response.text)\n",
    "    \n",
    "    # Extraire la liste des apps\n",
    "    apps_list = data['applist']['apps']\n",
    "    \n",
    "    # Créer une liste pour stocker uniquement les ID\n",
    "    game_ids = [app['appid'] for app in apps_list]\n",
    "    game_ids.sort()\n",
    "    \n",
    "    # Afficher le nombre total de jeux\n",
    "    print(f\"Nombre total de jeux : {len(game_ids)}\")\n",
    "\n",
    "def fetch_steam_games():\n",
    "    #response = requests.get(URL)\n",
    "    if response.status_code == 200:\n",
    "        return response.json()['applist']['apps']\n",
    "    else:\n",
    "        print(f\"Erreur lors de la récupération des données : {response.status_code}\")\n",
    "        return None\n"
   ]
  },
  {
   "cell_type": "code",
   "execution_count": 9,
   "metadata": {},
   "outputs": [],
   "source": [
    "# Remplacer la fonction update_database par update_csv_file\n",
    "def update_csv_file(csv_file, games):\n",
    "    with open(csv_file, 'r', newline='') as f:\n",
    "        reader = csv.reader(f)\n",
    "        next(reader)  # Skip header\n",
    "        existing_ids = set(row[1] for row in reader)\n",
    "    \n",
    "    with open(csv_file, 'r', newline='') as f:\n",
    "        reader = csv.reader(f)\n",
    "        next(reader)  # Skip header\n",
    "        last_id = max(int(row[0]) for row in reader) if reader else 0\n",
    "    \n",
    "    new_entries = []\n",
    "    current_time = int(time.time())\n",
    "    for game in games:\n",
    "        if str(game['appid']) not in existing_ids:\n",
    "            last_id += 1\n",
    "            new_entries.append([last_id, game['appid'], current_time])\n",
    "    \n",
    "    with open(csv_file, 'a', newline='') as f:\n",
    "        writer = csv.writer(f)\n",
    "        writer.writerows(new_entries)\n",
    "    \n",
    "    print(f\"CSV file updated. {len(new_entries)} new games added.\")\n",
    "\n",
    "\n",
    "def main(csv_file):\n",
    "    # Récupérer la liste des jeux depuis l'API Steam\n",
    "    games = fetch_steam_games()\n",
    "    if games:\n",
    "        # Mettre à jour la base de données avec les nouveaux jeux\n",
    "        update_csv_file(csv_file, games)\n"
   ]
  },
  {
   "cell_type": "code",
   "execution_count": 10,
   "metadata": {},
   "outputs": [
    {
     "name": "stdout",
     "output_type": "stream",
     "text": [
      "CSV file updated. 86 new games added.\n",
      "Le script a terminé son exécution et va maintenant se fermer.\n"
     ]
    }
   ],
   "source": [
    "if __name__ == \"__main__\":\n",
    "    main(\"steam_games.csv\")\n",
    "    print(\"Le script a terminé son exécution et va maintenant se fermer.\")"
   ]
  }
 ],
 "metadata": {
  "kernelspec": {
   "display_name": "venv",
   "language": "python",
   "name": "python3"
  },
  "language_info": {
   "codemirror_mode": {
    "name": "ipython",
    "version": 3
   },
   "file_extension": ".py",
   "mimetype": "text/x-python",
   "name": "python",
   "nbconvert_exporter": "python",
   "pygments_lexer": "ipython3",
   "version": "3.12.4"
  }
 },
 "nbformat": 4,
 "nbformat_minor": 2
}
