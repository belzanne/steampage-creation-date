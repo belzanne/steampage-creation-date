{
 "cells": [
  {
   "cell_type": "code",
   "execution_count": 1,
   "metadata": {},
   "outputs": [
    {
     "name": "stdout",
     "output_type": "stream",
     "text": [
      "Les données ont été exportées vers steam_games.csv\n"
     ]
    }
   ],
   "source": [
    "import sqlite3\n",
    "import csv\n",
    "import os\n",
    "\n",
    "# Chemin vers votre fichier de base de données SQLite\n",
    "db_file = 'steam_games.db'\n",
    "\n",
    "# Nom du fichier CSV de sortie\n",
    "csv_file = 'steam_games.csv'\n",
    "\n",
    "# Connexion à la base de données\n",
    "conn = sqlite3.connect(db_file)\n",
    "cursor = conn.cursor()\n",
    "\n",
    "# Exécuter une requête pour obtenir toutes les données\n",
    "cursor.execute(\"SELECT * FROM games\")\n",
    "\n",
    "# Écrire les données dans un fichier CSV\n",
    "with open(csv_file, 'w', newline='') as f:\n",
    "    csv_writer = csv.writer(f)\n",
    "    # Écrire les en-têtes de colonnes\n",
    "    csv_writer.writerow([description[0] for description in cursor.description])\n",
    "    # Écrire les données\n",
    "    csv_writer.writerows(cursor)\n",
    "\n",
    "# Fermer la connexion\n",
    "conn.close()\n",
    "\n",
    "print(f\"Les données ont été exportées vers {csv_file}\")\n",
    "\n"
   ]
  }
 ],
 "metadata": {
  "kernelspec": {
   "display_name": "venv",
   "language": "python",
   "name": "python3"
  },
  "language_info": {
   "codemirror_mode": {
    "name": "ipython",
    "version": 3
   },
   "file_extension": ".py",
   "mimetype": "text/x-python",
   "name": "python",
   "nbconvert_exporter": "python",
   "pygments_lexer": "ipython3",
   "version": "3.12.4"
  }
 },
 "nbformat": 4,
 "nbformat_minor": 2
}
